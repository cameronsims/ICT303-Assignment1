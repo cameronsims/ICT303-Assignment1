{
  "cells": [
    {
      "cell_type": "markdown",
      "metadata": {
        "id": "yJwixK1R4Typ"
      },
      "source": [
        "# ICT374: Advanced Machine Learning and Artificial Intelligence - Assignment 1\n",
        "- Author: Cameron Sims - 34829454\n",
        "- Type: External\n",
        "- Due: 19/09/2025\n",
        "\n",
        "# Question 1\n",
        "Question 1 is located in the directory \"Assignment1/q1/\", it uses a Multi-Layer Perception Model (MLP) to identify the class of clothing.\n",
        "It can be ran by running the following code:\n"
      ]
    },
    {
      "cell_type": "code",
      "execution_count": null,
      "metadata": {
        "id": "pR-l7sCw4RCQ",
        "vscode": {
          "languageId": "bat"
        }
      },
      "outputs": [],
      "source": [
        "REM Run in ./Assignment1/\n",
        "python -m q1.a1_q1"
      ]
    },
    {
      "cell_type": "markdown",
      "metadata": {},
      "source": [
        "## Files\n",
        "The model uses numerous files to make code neat and reusable, the purpose and names are listed below.\n",
        "| File Name (.py) | File Purpose |\n",
        "|-----------------|:-------------|\n",
        "| MLP | This is the model, defines the neutrons, the cost and optimises the MLP for performance. |\n",
        "| Trainer | This trains the model, with the data that it has been fed. And then fits the model. |\n",
        "| model | This file is used for combining these models together, and defines interaction between reading data from the computer, the MLP and Trainer. Printing out the performance. |\n",
        "| a1_q1 | The file is the start of the program, executing from the model module. |\n",
        "## Design Choices\n",
        "There is numerous files for the project for nice cohesion and coupling, and with their use with other modules.\n",
        "I have elected to use 64-32 neutrons for the model to allow for a large amount of fidelity while still being a relatively small learning model, since these are not hyperparameters (but instead architecture), they should not be changed/compared.\n",
        "## Architecture\n",
        "- Input: The model has an input of (3\\*432\\*300) = 388800, where RGB=3, Height=432, Width=300, this is then flattened into one Vector which is passed through to the other layers. \n",
        "- Layer 1: There are 64 neutrons in the first layer \n",
        "- Layer 2: There is then 32 neutrons in the second layer.\n",
        "- Output: The model then concludes with a possibility of 8 outputs(accessories, jackets, jeans, knitwear, shirts, shoes, shorts and tees).\n",
        "## Hyper-Parameters and Performance\n",
        "A list of hyper-parameters and their effects on performance time-accuracy are in \"./Assignment1/q1/a1_q1_parameters.csv\" these can be shown in a dot-plot by comparing them in Excel/TensorBoard."
      ]
    },
    {
      "cell_type": "markdown",
      "metadata": {},
      "source": [
        "# Question 2\n",
        "\n",
        "# Question 3\n",
        "\n",
        "# Comparing Models\n",
        "## Training\n",
        "## Testing\n",
        "## Performance\n",
        "- Confusion Matrix\n",
        "- Mean Average Precision\n",
        "- How do Hyper-Parameters effect"
      ]
    }
  ],
  "metadata": {
    "colab": {
      "provenance": []
    },
    "kernelspec": {
      "display_name": "Python 3",
      "name": "python3"
    },
    "language_info": {
      "name": "python"
    }
  },
  "nbformat": 4,
  "nbformat_minor": 0
}
